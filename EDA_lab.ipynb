{
 "cells": [
  {
   "cell_type": "markdown",
   "id": "10b13cdd",
   "metadata": {},
   "source": [
    "# Lab - EDA Univariate Analysis: Diving into Amazon UK Product Insights\n"
   ]
  },
  {
   "cell_type": "markdown",
   "id": "e310f18a",
   "metadata": {},
   "source": [
    "Objective: Explore the product listing dynamics on Amazon UK to extract actionable business insights. By understanding the distribution, central tendencies, and relationships of various product attributes, businesses can make more informed decisions on product positioning, pricing strategies, and inventory management.\n",
    "\n",
    "Dataset: This lab utilizes the Amazon UK product dataset which provides information on product categories, brands, prices, ratings, and more from from Amazon UK. You'll need to download it to start working with it."
   ]
  },
  {
   "cell_type": "markdown",
   "id": "a9dcbc94",
   "metadata": {},
   "source": [
    "## Part 1: Understanding Product Categories"
   ]
  },
  {
   "cell_type": "markdown",
   "id": "4c524439",
   "metadata": {},
   "source": [
    "Business Question: What are the most popular product categories on Amazon UK, and how do they compare in terms of listing frequency?\n",
    "\n",
    "- 1. Frequency Tables:\n",
    "\n",
    "Generate a frequency table for the product category.\n",
    "Which are the top 5 most listed product categories?\n",
    "\n",
    "- 2.Visualizations:\n",
    "\n",
    "Display the distribution of products across different categories using a bar chart. If you face problems understanding the chart, do it for a subset of top categories.\n",
    "For a subset of top categories, visualize their proportions using a pie chart. Does any category dominate the listings?\n"
   ]
  },
  {
   "cell_type": "code",
   "execution_count": 1,
   "id": "5863bb57",
   "metadata": {},
   "outputs": [],
   "source": [
    "import pandas as pd\n",
    "import matplotlib.pyplot as plt\n",
    "import seaborn as sns\n",
    "import numpy as np"
   ]
  },
  {
   "cell_type": "code",
   "execution_count": 2,
   "id": "6985c8c9",
   "metadata": {},
   "outputs": [],
   "source": [
    "df = pd.read_csv(\"/Users/admin/Desktop/IRONHACK/5.WEEK/LABS/amz_uk_price_prediction_dataset.csv\")"
   ]
  },
  {
   "cell_type": "code",
   "execution_count": 3,
   "id": "9f449a61",
   "metadata": {},
   "outputs": [
    {
     "data": {
      "text/html": [
       "<div>\n",
       "<style scoped>\n",
       "    .dataframe tbody tr th:only-of-type {\n",
       "        vertical-align: middle;\n",
       "    }\n",
       "\n",
       "    .dataframe tbody tr th {\n",
       "        vertical-align: top;\n",
       "    }\n",
       "\n",
       "    .dataframe thead th {\n",
       "        text-align: right;\n",
       "    }\n",
       "</style>\n",
       "<table border=\"1\" class=\"dataframe\">\n",
       "  <thead>\n",
       "    <tr style=\"text-align: right;\">\n",
       "      <th></th>\n",
       "      <th>uid</th>\n",
       "      <th>asin</th>\n",
       "      <th>title</th>\n",
       "      <th>stars</th>\n",
       "      <th>reviews</th>\n",
       "      <th>price</th>\n",
       "      <th>isBestSeller</th>\n",
       "      <th>boughtInLastMonth</th>\n",
       "      <th>category</th>\n",
       "    </tr>\n",
       "  </thead>\n",
       "  <tbody>\n",
       "    <tr>\n",
       "      <th>0</th>\n",
       "      <td>1</td>\n",
       "      <td>B09B96TG33</td>\n",
       "      <td>Echo Dot (5th generation, 2022 release) | Big ...</td>\n",
       "      <td>4.7</td>\n",
       "      <td>15308</td>\n",
       "      <td>21.99</td>\n",
       "      <td>False</td>\n",
       "      <td>0</td>\n",
       "      <td>Hi-Fi Speakers</td>\n",
       "    </tr>\n",
       "    <tr>\n",
       "      <th>1</th>\n",
       "      <td>2</td>\n",
       "      <td>B01HTH3C8S</td>\n",
       "      <td>Anker Soundcore mini, Super-Portable Bluetooth...</td>\n",
       "      <td>4.7</td>\n",
       "      <td>98099</td>\n",
       "      <td>23.99</td>\n",
       "      <td>True</td>\n",
       "      <td>0</td>\n",
       "      <td>Hi-Fi Speakers</td>\n",
       "    </tr>\n",
       "    <tr>\n",
       "      <th>2</th>\n",
       "      <td>3</td>\n",
       "      <td>B09B8YWXDF</td>\n",
       "      <td>Echo Dot (5th generation, 2022 release) | Big ...</td>\n",
       "      <td>4.7</td>\n",
       "      <td>15308</td>\n",
       "      <td>21.99</td>\n",
       "      <td>False</td>\n",
       "      <td>0</td>\n",
       "      <td>Hi-Fi Speakers</td>\n",
       "    </tr>\n",
       "    <tr>\n",
       "      <th>3</th>\n",
       "      <td>4</td>\n",
       "      <td>B09B8T5VGV</td>\n",
       "      <td>Echo Dot with clock (5th generation, 2022 rele...</td>\n",
       "      <td>4.7</td>\n",
       "      <td>7205</td>\n",
       "      <td>31.99</td>\n",
       "      <td>False</td>\n",
       "      <td>0</td>\n",
       "      <td>Hi-Fi Speakers</td>\n",
       "    </tr>\n",
       "    <tr>\n",
       "      <th>4</th>\n",
       "      <td>5</td>\n",
       "      <td>B09WX6QD65</td>\n",
       "      <td>Introducing Echo Pop | Full sound compact Wi-F...</td>\n",
       "      <td>4.6</td>\n",
       "      <td>1881</td>\n",
       "      <td>17.99</td>\n",
       "      <td>False</td>\n",
       "      <td>0</td>\n",
       "      <td>Hi-Fi Speakers</td>\n",
       "    </tr>\n",
       "  </tbody>\n",
       "</table>\n",
       "</div>"
      ],
      "text/plain": [
       "   uid        asin                                              title  stars  \\\n",
       "0    1  B09B96TG33  Echo Dot (5th generation, 2022 release) | Big ...    4.7   \n",
       "1    2  B01HTH3C8S  Anker Soundcore mini, Super-Portable Bluetooth...    4.7   \n",
       "2    3  B09B8YWXDF  Echo Dot (5th generation, 2022 release) | Big ...    4.7   \n",
       "3    4  B09B8T5VGV  Echo Dot with clock (5th generation, 2022 rele...    4.7   \n",
       "4    5  B09WX6QD65  Introducing Echo Pop | Full sound compact Wi-F...    4.6   \n",
       "\n",
       "   reviews  price  isBestSeller  boughtInLastMonth        category  \n",
       "0    15308  21.99         False                  0  Hi-Fi Speakers  \n",
       "1    98099  23.99          True                  0  Hi-Fi Speakers  \n",
       "2    15308  21.99         False                  0  Hi-Fi Speakers  \n",
       "3     7205  31.99         False                  0  Hi-Fi Speakers  \n",
       "4     1881  17.99         False                  0  Hi-Fi Speakers  "
      ]
     },
     "execution_count": 3,
     "metadata": {},
     "output_type": "execute_result"
    }
   ],
   "source": [
    "df.head()"
   ]
  },
  {
   "cell_type": "code",
   "execution_count": 4,
   "id": "f6627aba",
   "metadata": {},
   "outputs": [
    {
     "data": {
      "text/plain": [
       "(2443651, 9)"
      ]
     },
     "execution_count": 4,
     "metadata": {},
     "output_type": "execute_result"
    }
   ],
   "source": [
    "df.shape"
   ]
  },
  {
   "cell_type": "code",
   "execution_count": 5,
   "id": "14a6404b",
   "metadata": {},
   "outputs": [
    {
     "name": "stdout",
     "output_type": "stream",
     "text": [
      "<class 'pandas.core.frame.DataFrame'>\n",
      "RangeIndex: 2443651 entries, 0 to 2443650\n",
      "Data columns (total 9 columns):\n",
      " #   Column             Dtype  \n",
      "---  ------             -----  \n",
      " 0   uid                int64  \n",
      " 1   asin               object \n",
      " 2   title              object \n",
      " 3   stars              float64\n",
      " 4   reviews            int64  \n",
      " 5   price              float64\n",
      " 6   isBestSeller       bool   \n",
      " 7   boughtInLastMonth  int64  \n",
      " 8   category           object \n",
      "dtypes: bool(1), float64(2), int64(3), object(3)\n",
      "memory usage: 151.5+ MB\n"
     ]
    }
   ],
   "source": [
    "# Displaying the data types of each column in the dataframe\n",
    "df.info(verbose=True)"
   ]
  },
  {
   "cell_type": "code",
   "execution_count": 6,
   "id": "af71a681",
   "metadata": {},
   "outputs": [
    {
     "data": {
      "text/plain": [
       "[dtype('float64'), dtype('int64'), dtype('O'), dtype('bool')]"
      ]
     },
     "execution_count": 6,
     "metadata": {},
     "output_type": "execute_result"
    }
   ],
   "source": [
    "# Retrieving the unique data types present in the dataframe columns\n",
    "list(set(df.dtypes.tolist()))"
   ]
  },
  {
   "cell_type": "code",
   "execution_count": 7,
   "id": "3f0a667b",
   "metadata": {},
   "outputs": [
    {
     "data": {
      "text/plain": [
       "Index(['uid', 'stars', 'reviews', 'price', 'boughtInLastMonth'], dtype='object')"
      ]
     },
     "execution_count": 7,
     "metadata": {},
     "output_type": "execute_result"
    }
   ],
   "source": [
    "# Extracting column names with numerical data types from the dataframe\n",
    "df.select_dtypes(\"number\").columns"
   ]
  },
  {
   "cell_type": "code",
   "execution_count": 8,
   "id": "bb147d3e",
   "metadata": {},
   "outputs": [
    {
     "data": {
      "text/plain": [
       "boughtInLastMonth         25\n",
       "stars                     42\n",
       "reviews                19446\n",
       "price                  82916\n",
       "uid                  2443651\n",
       "dtype: int64"
      ]
     },
     "execution_count": 8,
     "metadata": {},
     "output_type": "execute_result"
    }
   ],
   "source": [
    "# Counting and sorting the unique values for each numerical column in descending order\n",
    "df.select_dtypes(\"number\").nunique().sort_values(ascending=True) #puede ser false tambien"
   ]
  },
  {
   "cell_type": "markdown",
   "id": "da4747e4",
   "metadata": {},
   "source": [
    "- `Frequency Tables`:\n",
    "Generate a frequency table for the product category. Which are the top 5 most listed product categories?"
   ]
  },
  {
   "cell_type": "code",
   "execution_count": 9,
   "id": "31cfbf84",
   "metadata": {},
   "outputs": [
    {
     "data": {
      "text/plain": [
       "Index(['asin', 'title', 'category'], dtype='object')"
      ]
     },
     "execution_count": 9,
     "metadata": {},
     "output_type": "execute_result"
    }
   ],
   "source": [
    "# Retrieving column names with object (typically string) data types from the dataframe\n",
    "df.select_dtypes(\"object\").columns"
   ]
  },
  {
   "cell_type": "code",
   "execution_count": 10,
   "id": "2f24410a",
   "metadata": {},
   "outputs": [
    {
     "data": {
      "text/plain": [
       "category        296\n",
       "title       2077591\n",
       "asin        2222742\n",
       "dtype: int64"
      ]
     },
     "execution_count": 10,
     "metadata": {},
     "output_type": "execute_result"
    }
   ],
   "source": [
    "# Counting and sorting the unique values for each object (string) column in descending order\n",
    "df.select_dtypes(\"object\").nunique().sort_values(ascending=True)"
   ]
  },
  {
   "cell_type": "code",
   "execution_count": 11,
   "id": "7d670813",
   "metadata": {},
   "outputs": [
    {
     "data": {
      "text/plain": [
       "category\n",
       "Sports & Outdoors                         836265\n",
       "Beauty                                     19312\n",
       "Handmade Clothing, Shoes & Accessories     19229\n",
       "Bath & Body                                19092\n",
       "Birthday Gifts                             18978\n",
       "                                           ...  \n",
       "Alexa Built-In Devices                       107\n",
       "Motorbike Chassis                            107\n",
       "Plugs                                        107\n",
       "Smart Home Security & Lighting               104\n",
       "Smart Speakers                                54\n",
       "Name: count, Length: 296, dtype: int64"
      ]
     },
     "execution_count": 11,
     "metadata": {},
     "output_type": "execute_result"
    }
   ],
   "source": [
    "# Frequency table for 'MSZoning'\n",
    "frequency_table = df['category'].value_counts()\n",
    "frequency_table"
   ]
  },
  {
   "cell_type": "code",
   "execution_count": 12,
   "id": "4a7b75c1",
   "metadata": {},
   "outputs": [
    {
     "data": {
      "text/plain": [
       "category\n",
       "Sports & Outdoors                         836265\n",
       "Beauty                                     19312\n",
       "Handmade Clothing, Shoes & Accessories     19229\n",
       "Bath & Body                                19092\n",
       "Birthday Gifts                             18978\n",
       "Name: count, dtype: int64"
      ]
     },
     "execution_count": 12,
     "metadata": {},
     "output_type": "execute_result"
    }
   ],
   "source": [
    "top_5_categories = frequency_table.head(5)\n",
    "top_5_categories"
   ]
  },
  {
   "cell_type": "markdown",
   "id": "c9ff644f",
   "metadata": {},
   "source": [
    "- 2.`Visualizations`:\n",
    "\n",
    "Display the distribution of products across different categories using a bar chart. If you face problems understanding the chart, do it for a subset of top categories. For a subset of top categories, visualize their proportions using a pie chart. Does any category dominate the listings?"
   ]
  },
  {
   "cell_type": "code",
   "execution_count": 13,
   "id": "80c4f8c4",
   "metadata": {},
   "outputs": [
    {
     "data": {
      "text/plain": [
       "<Axes: xlabel='category'>"
      ]
     },
     "execution_count": 13,
     "metadata": {},
     "output_type": "execute_result"
    },
    {
     "data": {
      "image/png": "[encoded data removed]",
      "text/plain": [
       "<Figure size 1000x1000 with 1 Axes>"
      ]
     },
     "metadata": {},
     "output_type": "display_data"
    }
   ],
   "source": [
    "# Contar los valores únicos de la columna 'category' y seleccionar las 20 categorías más frecuentes\n",
    "plt.figure(figsize=(10,10))\n",
    "sns.barplot(x=df['category'].value_counts().head(20).index, y=df['category'].value_counts().head(20).values, palette=\"pastel\")"
   ]
  },
  {
   "cell_type": "code",
   "execution_count": 14,
   "id": "9b0c709d",
   "metadata": {},
   "outputs": [
    {
     "data": {
      "text/plain": [
       "<Axes: xlabel='category', ylabel='count'>"
      ]
     },
     "execution_count": 14,
     "metadata": {},
     "output_type": "execute_result"
    },
    {
     "data": {
      "image/png": "[encoded data removed]",
      "text/plain": [
       "<Figure size 1000x1000 with 1 Axes>"
      ]
     },
     "metadata": {},
     "output_type": "display_data"
    }
   ],
   "source": [
    "plt.figure(figsize=(10,10))\n",
    "sns.barplot(x=top_5_categories.index, y=top_5_categories, palette=\"pastel\")"
   ]
  },
  {
   "cell_type": "code",
   "execution_count": 15,
   "id": "c6ea2fe3",
   "metadata": {},
   "outputs": [
    {
     "data": {
      "text/plain": [
       "([<matplotlib.patches.Wedge at 0x15e810650>,\n",
       "  <matplotlib.patches.Wedge at 0x15e9195d0>,\n",
       "  <matplotlib.patches.Wedge at 0x15e91b2d0>,\n",
       "  <matplotlib.patches.Wedge at 0x15e91a350>,\n",
       "  <matplotlib.patches.Wedge at 0x15e92ac90>],\n",
       " [Text(-0.28666771368868316, -1.0619894641325325, 'Sports & Outdoors'),\n",
       "  Text(0.4891716928879617, 0.985246697470804, 'Beauty'),\n",
       "  Text(0.3545789173188807, 1.0412846831644893, 'Handmade Clothing, Shoes & Accessories'),\n",
       "  Text(0.21457431617737968, 1.0788687885174035, 'Bath & Body'),\n",
       "  Text(0.0717914226731242, 1.0976547688734235, 'Birthday Gifts')],\n",
       " [Text(-0.1563642074665544, -0.5792669804359267, '91.6%'),\n",
       "  Text(0.2668209233934336, 0.5374072895295293, '2.1%'),\n",
       "  Text(0.1934066821739349, 0.5679734635442668, '2.1%'),\n",
       "  Text(0.11704053609675254, 0.5884738846458565, '2.1%'),\n",
       "  Text(0.0391589578217041, 0.5987207830218674, '2.1%')])"
      ]
     },
     "execution_count": 15,
     "metadata": {},
     "output_type": "execute_result"
    },
    {
     "data": {
      "image/png": "[encoded data removed]",
      "text/plain": [
       "<Figure size 800x800 with 1 Axes>"
      ]
     },
     "metadata": {},
     "output_type": "display_data"
    }
   ],
   "source": [
    "plt.figure(figsize=(8,8))\n",
    "plt.pie(top_5_categories, labels=top_5_categories.index, autopct='%1.1f%%', startangle=90)"
   ]
  },
  {
   "cell_type": "markdown",
   "id": "4d77c90a",
   "metadata": {},
   "source": [
    "## Part 2: Delving into Product Pricing"
   ]
  },
  {
   "cell_type": "markdown",
   "id": "4cd3c84e",
   "metadata": {},
   "source": [
    "- Business Question: How are products priced on Amazon UK, and are there specific price points or ranges that are more common?"
   ]
  },
  {
   "cell_type": "markdown",
   "id": "8d38a0d2",
   "metadata": {},
   "source": [
    "**1. Measures of Centrality:**\n",
    "\n",
    "Calculate the mean, median, and mode for the price of products.\n",
    "What's the average price point of products listed? How does this compare with the most common price point (mode)?\n",
    "\n",
    "**2. Measures of Dispersion:**\n",
    "\n",
    "Determine the variance, standard deviation, range, and interquartile range for product price.\n",
    "How varied are the product prices? Are there any indicators of a significant spread in prices?\n",
    "\n",
    "**3. Visualizations:**\n",
    "\n",
    "Is there a specific price range where most products fall? Plot a histogram to visualize the distribution of product prices. If its hard to read these diagrams, think why this is, and explain how it could be solved..\n",
    "Are there products that are priced significantly higher than the rest? Use a box plot to showcase the spread and potential outliers in product pricing."
   ]
  },
  {
   "cell_type": "markdown",
   "id": "43933569",
   "metadata": {},
   "source": [
    "**1. Measures of Centrality:**\n",
    "\n",
    "Calculate the mean, median, and mode for the price of products. What's the average price point of products listed? How does this compare with the most common price point (mode)?"
   ]
  },
  {
   "cell_type": "code",
   "execution_count": 16,
   "id": "7b1e75f1",
   "metadata": {},
   "outputs": [
    {
     "name": "stdout",
     "output_type": "stream",
     "text": [
      "Mean price: 89.24380943923663\n",
      "Median price: 19.09\n",
      "Mode price: 0    9.99\n",
      "Name: price, dtype: float64\n"
     ]
    }
   ],
   "source": [
    "mean_price = df['price'].mean()\n",
    "median_price = df['price'].median()\n",
    "mode_price = df['price'].mode()\n",
    "\n",
    "print(f\"Mean price: {mean_price}\")\n",
    "print(f\"Median price: {median_price}\")\n",
    "print(f\"Mode price: {mode_price}\")"
   ]
  },
  {
   "cell_type": "markdown",
   "id": "53e77030",
   "metadata": {},
   "source": [
    "- The mean price point of products listed is $89.24. \n",
    "- The average price (mean) is significantly higher than the most common price (mode), suggesting the presence of some high value products that are influencing the average."
   ]
  },
  {
   "cell_type": "markdown",
   "id": "6cc9bbf8",
   "metadata": {},
   "source": [
    "**2. Measures of Dispersion:**\n",
    "\n",
    "Determine the variance, standard deviation, range, and interquartile range for product price. How varied are the product prices? Are there any indicators of a significant spread in prices?"
   ]
  },
  {
   "cell_type": "code",
   "execution_count": 17,
   "id": "cbb5c7f0",
   "metadata": {},
   "outputs": [
    {
     "name": "stdout",
     "output_type": "stream",
     "text": [
      "Variance of price: 119445.48532256528\n",
      "Standard deviation of price: 345.60886175352226\n",
      "Minimum price: 0.0\n",
      "Maximum price: 100000.0\n",
      "Range of price: 100000.0\n",
      "Quantiles of price (25%, 50%, 75%): 0.25     9.99\n",
      "0.50    19.09\n",
      "0.75    45.99\n",
      "Name: price, dtype: float64\n"
     ]
    }
   ],
   "source": [
    "variance_price = df['price'].var()\n",
    "std_dev_price = df['price'].std()\n",
    "min_price = df['price'].min()\n",
    "max_price = df['price'].max()\n",
    "range_price = max_price - min_price\n",
    "quantiles_price = df['price'].quantile([0.25, 0.5, 0.75])\n",
    "\n",
    "print(f\"Variance of price: {variance_price}\")\n",
    "print(f\"Standard deviation of price: {std_dev_price}\")\n",
    "print(f\"Minimum price: {min_price}\")\n",
    "print(f\"Maximum price: {max_price}\")\n",
    "print(f\"Range of price: {range_price}\")\n",
    "print(f\"Quantiles of price (25%, 50%, 75%): {quantiles_price}\")"
   ]
  },
  {
   "cell_type": "code",
   "execution_count": 18,
   "id": "2d5b498f",
   "metadata": {},
   "outputs": [
    {
     "data": {
      "text/plain": [
       "count    2443651.00\n",
       "mean          89.24\n",
       "std          345.61\n",
       "min            0.00\n",
       "25%            9.99\n",
       "50%           19.09\n",
       "75%           45.99\n",
       "max       100000.00\n",
       "Name: price, dtype: float64"
      ]
     },
     "execution_count": 18,
     "metadata": {},
     "output_type": "execute_result"
    }
   ],
   "source": [
    "df['price'].describe().round(2)"
   ]
  },
  {
   "cell_type": "markdown",
   "id": "c244a89e",
   "metadata": {},
   "source": [
    "The variance, a measure of how far each price in the set is from the mean ($89,24), is approximately (119445.48). \n",
    "The variance of prices is high, indicating a significant spread in prices, confirmed by the large standard deviation. Additionally, the wide range from the minimum to the maximum price suggests that there is considerable variation in product pricing"
   ]
  },
  {
   "cell_type": "markdown",
   "id": "0550c8e6",
   "metadata": {},
   "source": [
    "**3. Visualizations:**\n",
    "\n",
    "- Is there a specific price range where most products fall? Plot a histogram to visualize the distribution of product prices. If its hard to read these diagrams, think why this is, and explain how it could be solved. \n",
    "- Are there products that are priced significantly higher than the rest? Use a box plot to showcase the spread and potential outliers in product pricing."
   ]
  },
  {
   "cell_type": "code",
   "execution_count": 19,
   "id": "e3a104c9",
   "metadata": {},
   "outputs": [
    {
     "name": "stderr",
     "output_type": "stream",
     "text": [
      "/opt/anaconda3/lib/python3.11/site-packages/seaborn/_oldcore.py:1119: FutureWarning: use_inf_as_na option is deprecated and will be removed in a future version. Convert inf values to NaN before operating instead.\n",
      "  with pd.option_context('mode.use_inf_as_na', True):\n"
     ]
    },
    {
     "data": {
      "text/plain": [
       "<Axes: xlabel='price', ylabel='Count'>"
      ]
     },
     "execution_count": 19,
     "metadata": {},
     "output_type": "execute_result"
    },
    {
     "data": {
      "image/png": "[encoded data removed]",
      "text/plain": [
       "<Figure size 640x480 with 1 Axes>"
      ]
     },
     "metadata": {},
     "output_type": "display_data"
    }
   ],
   "source": [
    "sns.histplot(df['price'], kde=True, bins=30, color=\"salmon\")"
   ]
  },
  {
   "cell_type": "code",
   "execution_count": 20,
   "id": "2f770112",
   "metadata": {},
   "outputs": [
    {
     "data": {
      "text/plain": [
       "<Axes: >"
      ]
     },
     "execution_count": 20,
     "metadata": {},
     "output_type": "execute_result"
    },
    {
     "data": {
      "image/png": "[encoded data removed]",
      "text/plain": [
       "<Figure size 640x480 with 1 Axes>"
      ]
     },
     "metadata": {},
     "output_type": "display_data"
    }
   ],
   "source": [
    "sns.boxplot(data = df['price'], color=\"lightblue\")"
   ]
  },
  {
   "cell_type": "markdown",
   "id": "d3706275",
   "metadata": {},
   "source": [
    "Data cannot be analyzed well because there are too many outliers"
   ]
  },
  {
   "cell_type": "markdown",
   "id": "fe6eceb9",
   "metadata": {},
   "source": [
    "## Part 3: Unpacking Product Ratings"
   ]
  },
  {
   "cell_type": "markdown",
   "id": "1b6dc1a1",
   "metadata": {},
   "source": [
    "- Business Question: How do customers rate products on Amazon UK, and are there any patterns or tendencies in the ratings?"
   ]
  },
  {
   "cell_type": "markdown",
   "id": "4a6546ad",
   "metadata": {},
   "source": [
    "**1.Measures of Centrality:**\n",
    "\n",
    "Calculate the mean, median, and mode for the rating of products.\n",
    "How do customers generally rate products? Is there a common trend?\n",
    "\n",
    "**2. Measures of Dispersion:**\n",
    "\n",
    "Determine the variance, standard deviation, and interquartile range for product rating.\n",
    "Are the ratings consistent, or is there a wide variation in customer feedback?\n",
    "\n",
    "**3. Shape of the Distribution:**\n",
    "\n",
    "Calculate the skewness and kurtosis for the rating column.\n",
    "Are the ratings normally distributed, or do they lean towards higher or lower values?\n",
    "\n",
    "**4. Visualizations:**\n",
    "\n",
    "Plot a histogram to visualize the distribution of product ratings. Is there a specific rating that is more common?"
   ]
  },
  {
   "cell_type": "markdown",
   "id": "4d97096d",
   "metadata": {},
   "source": [
    "**1. Measures of Centrality:**\n",
    "\n",
    "Calculate the mean, median, and mode for the rating of products.\n",
    "How do customers generally rate products? Is there a common trend?"
   ]
  },
  {
   "cell_type": "code",
   "execution_count": 21,
   "id": "2513ef48",
   "metadata": {},
   "outputs": [
    {
     "name": "stdout",
     "output_type": "stream",
     "text": [
      "Mean stars: 2.152836472966065\n",
      "Median stars: 0.0\n",
      "Mode stars: 0    0.0\n",
      "Name: stars, dtype: float64\n"
     ]
    }
   ],
   "source": [
    "mean_stars = df['stars'].mean()\n",
    "median_stars = df['stars'].median()\n",
    "mode_stars = df['stars'].mode()\n",
    "\n",
    "print(f\"Mean stars: {mean_stars}\")\n",
    "print(f\"Median stars: {median_stars}\")\n",
    "print(f\"Mode stars: {mode_stars}\")"
   ]
  },
  {
   "cell_type": "markdown",
   "id": "d8a29974",
   "metadata": {},
   "source": [
    "- How do customers generally rate products? Is there a common trend?\n",
    "\n",
    "Customer trends to rate products when they are upset. The mean (average) rating of 2.15 indicates that, on average, customers are giving products relatively low ratings. "
   ]
  },
  {
   "cell_type": "markdown",
   "id": "3bd0dcef",
   "metadata": {},
   "source": [
    "**2. Measures of Dispersion:**\n",
    "\n",
    "Determine the variance, standard deviation, and interquartile range for product rating.\n",
    "Are the ratings consistent, or is there a wide variation in customer feedback?"
   ]
  },
  {
   "cell_type": "code",
   "execution_count": 22,
   "id": "de4b1c53",
   "metadata": {},
   "outputs": [
    {
     "name": "stdout",
     "output_type": "stream",
     "text": [
      "Variance of stars: 4.81743402976196\n",
      "Standard deviation of stars: 2.1948653785054697\n",
      "Minimum stars: 0.0\n",
      "Maximum stars: 100000.0\n",
      "Range of stars: 100000.0\n",
      "Quantiles of stars (25%, 50%, 75%): 0.25    0.0\n",
      "0.50    0.0\n",
      "0.75    4.4\n",
      "Name: stars, dtype: float64\n"
     ]
    }
   ],
   "source": [
    "variance_stars = df['stars'].var()\n",
    "std_dev_stars = df['stars'].std() #con respecto a la media cuanto se alejo\n",
    "min_stars = df['stars'].min()\n",
    "max_stars = df['stars'].max()\n",
    "range_stars = max_stars - min_stars\n",
    "quantiles_stars = df['stars'].quantile([0.25, 0.5, 0.75])\n",
    "\n",
    "print(f\"Variance of stars: {variance_stars}\")\n",
    "print(f\"Standard deviation of stars: {std_dev_stars}\")\n",
    "print(f\"Minimum stars: {min_price}\")\n",
    "print(f\"Maximum stars: {max_price}\")\n",
    "print(f\"Range of stars: {range_price}\")\n",
    "print(f\"Quantiles of stars (25%, 50%, 75%): {quantiles_stars}\")"
   ]
  },
  {
   "cell_type": "code",
   "execution_count": 23,
   "id": "8aa947e3",
   "metadata": {},
   "outputs": [
    {
     "data": {
      "text/plain": [
       "count    2443651.00\n",
       "mean           2.15\n",
       "std            2.19\n",
       "min            0.00\n",
       "25%            0.00\n",
       "50%            0.00\n",
       "75%            4.40\n",
       "max            5.00\n",
       "Name: stars, dtype: float64"
      ]
     },
     "execution_count": 23,
     "metadata": {},
     "output_type": "execute_result"
    }
   ],
   "source": [
    "df['stars'].describe().round(2)"
   ]
  },
  {
   "cell_type": "markdown",
   "id": "99189844",
   "metadata": {},
   "source": [
    "**3. Shape of the Distribution:**\n",
    "\n",
    "Calculate the skewness and kurtosis for the rating column.\n",
    "Are the ratings normally distributed, or do they lean towards higher or lower values?"
   ]
  },
  {
   "cell_type": "code",
   "execution_count": 24,
   "id": "fc092430",
   "metadata": {},
   "outputs": [
    {
     "data": {
      "text/plain": [
       "(0.08120735761080985, -1.9260061280432985)"
      ]
     },
     "execution_count": 24,
     "metadata": {},
     "output_type": "execute_result"
    }
   ],
   "source": [
    "skewness = df['stars'].skew()\n",
    "kurtosis = df['stars'].kurtosis()\n",
    "\n",
    "skewness, kurtosis"
   ]
  },
  {
   "cell_type": "markdown",
   "id": "c0aa03ad",
   "metadata": {},
   "source": [
    "This suggests that the ratings tend to be spread out rather than concentrated around a central value, and there may be fewer extreme values compared to a normal distribution."
   ]
  },
  {
   "cell_type": "markdown",
   "id": "b45fc60d",
   "metadata": {},
   "source": [
    "**3. Shape of the Distribution:**\n",
    "\n",
    "Calculate the skewness and kurtosis for the rating column.\n",
    "Are the ratings normally distributed, or do they lean towards higher or lower values?"
   ]
  },
  {
   "cell_type": "code",
   "execution_count": 25,
   "id": "aa197c80",
   "metadata": {},
   "outputs": [
    {
     "name": "stderr",
     "output_type": "stream",
     "text": [
      "/opt/anaconda3/lib/python3.11/site-packages/seaborn/_oldcore.py:1119: FutureWarning: use_inf_as_na option is deprecated and will be removed in a future version. Convert inf values to NaN before operating instead.\n",
      "  with pd.option_context('mode.use_inf_as_na', True):\n"
     ]
    },
    {
     "data": {
      "text/plain": [
       "<Axes: xlabel='stars', ylabel='Count'>"
      ]
     },
     "execution_count": 25,
     "metadata": {},
     "output_type": "execute_result"
    },
    {
     "data": {
      "image/png": "[encoded data removed]",
      "text/plain": [
       "<Figure size 640x480 with 1 Axes>"
      ]
     },
     "metadata": {},
     "output_type": "display_data"
    }
   ],
   "source": [
    "sns.histplot(df['stars'], kde=True, bins=30, color=\"salmon\")"
   ]
  },
  {
   "cell_type": "markdown",
   "id": "90d355b4",
   "metadata": {},
   "source": [
    "The ratings do not have a normal distribution, they are skewed towards lower values with a noticeable concentration at 0 and less frequently at higher values, especially between 4 and 5."
   ]
  },
  {
   "cell_type": "code",
   "execution_count": null,
   "id": "21761277",
   "metadata": {},
   "outputs": [],
   "source": []
  }
 ],
 "metadata": {
  "kernelspec": {
   "display_name": "Python 3 (ipykernel)",
   "language": "python",
   "name": "python3"
  },
  "language_info": {
   "codemirror_mode": {
    "name": "ipython",
    "version": 3
   },
   "file_extension": ".py",
   "mimetype": "text/x-python",
   "name": "python",
   "nbconvert_exporter": "python",
   "pygments_lexer": "ipython3",
   "version": "3.11.7"
  }
 },
 "nbformat": 4,
 "nbformat_minor": 5
}
